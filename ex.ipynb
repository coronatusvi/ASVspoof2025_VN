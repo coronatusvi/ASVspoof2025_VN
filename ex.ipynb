{
 "cells": [
  {
   "cell_type": "code",
   "execution_count": null,
   "metadata": {},
   "outputs": [
    {
     "ename": "",
     "evalue": "",
     "output_type": "error",
     "traceback": [
      "\u001b[1;31mFailed to start the Kernel. \n",
      "\u001b[1;31mImportError: /home/coronatusvi/miniconda3/envs/faceid/lib/python3.12/lib-dynload/_sqlite3.cpython-312-x86_64-linux-gnu.so: undefined symbol: sqlite3_deserialize. \n",
      "\u001b[1;31mView Jupyter <a href='command:jupyter.viewOutput'>log</a> for further details."
     ]
    }
   ],
   "source": [
    "!pip install pydub"
   ]
  },
  {
   "cell_type": "code",
   "execution_count": null,
   "metadata": {},
   "outputs": [],
   "source": [
    "import tarfile\n",
    "import os\n",
    "from pydub import AudioSegment\n",
    "\n",
    "def convert_mp3_to_flac(mp3_path, flac_path):\n",
    "    try:\n",
    "        audio = AudioSegment.from_mp3(mp3_path)\n",
    "        \n",
    "        # Set parameters\n",
    "        audio = audio.set_frame_rate(16000)\n",
    "        audio = audio.set_channels(1)\n",
    "        audio = audio.set_sample_width(2)  # 2 bytes = 16 bits (s16)\n",
    "        \n",
    "        # Export as flac\n",
    "        audio.export(flac_path, format=\"flac\")\n",
    "    except Exception as e:\n",
    "        print(f\"Error converting {mp3_path} to {flac_path}: {e}\")\n",
    "\n",
    "def extract_and_convert(directory):\n",
    "    for root, dirs, files in os.walk(directory):\n",
    "        for file in files:\n",
    "            if file.endswith(\".tar.gz\"):\n",
    "                tar_path = os.path.join(root, file)\n",
    "                with tarfile.open(tar_path, \"r:gz\") as tar:\n",
    "                    tar.extractall(path=directory)\n",
    "                \n",
    "                # Convert MP3 files to FLAC and delete the original MP3 files\n",
    "                for root, dirs, files in os.walk(directory):\n",
    "                    for file in files:\n",
    "                        if file.endswith(\".mp3\"):\n",
    "                            mp3_path = os.path.join(root, file)\n",
    "                            flac_path = os.path.splitext(mp3_path)[0] + \".flac\"\n",
    "                            convert_mp3_to_flac(mp3_path, flac_path)\n",
    "                            os.remove(mp3_path)\n",
    "\n",
    "if __name__ == \"__main__\":\n",
    "    directory = \"path/to/your/directory\"  # Thay đổi đường dẫn tới thư mục của bạn\n",
    "    \n",
    "    extract_and_convert(directory)"
   ]
  }
 ],
 "metadata": {
  "kernelspec": {
   "display_name": "faceid",
   "language": "python",
   "name": "python3"
  },
  "language_info": {
   "name": "python",
   "version": "3.12.2"
  }
 },
 "nbformat": 4,
 "nbformat_minor": 2
}
